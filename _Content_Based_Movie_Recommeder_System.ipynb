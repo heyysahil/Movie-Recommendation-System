{
 "cells": [
  {
   "cell_type": "markdown",
   "id": "e0a84d52-963c-44d3-a302-9e8ffda9ed75",
   "metadata": {},
   "source": [
    "## Content Based Movie Recommender System"
   ]
  },
  {
   "cell_type": "code",
   "execution_count": 3,
   "id": "eec1c120-3c61-43e2-b009-f2ea0b666747",
   "metadata": {},
   "outputs": [
    {
     "name": "stdin",
     "output_type": "stream",
     "text": [
      "Enter a movie title:  Toy Story\n"
     ]
    },
    {
     "name": "stdout",
     "output_type": "stream",
     "text": [
      "\n",
      "Top 10 movie recommendations for 'Toy Story':\n",
      "1. Toy Story 2 (1999)\n",
      "2. Bug's Life, A (1998)\n",
      "3. Monsters, Inc. (2001)\n",
      "4. Ice Age (2002)\n",
      "5. Finding Nemo (2003)\n",
      "6. Toy Story 3 (2010)\n",
      "7. Incredibles, The (2004)\n",
      "8. Ratatouille (2007)\n",
      "9. Tin Toy (1988)\n",
      "10. The Legend of Mor'du (2012)\n"
     ]
    }
   ],
   "source": [
    "import pandas as pd\n",
    "from sklearn.feature_extraction.text import TfidfVectorizer\n",
    "from sklearn.metrics.pairwise import linear_kernel\n",
    "\n",
    "# Load the MovieLens dataset (movies.csv and tags.csv)\n",
    "movies = pd.read_csv(r\"C:\\Users\\Sahilsharma\\Desktop\\Projects\\Movie Reccomendation\\Movie Dataset\\movie.csv\")\n",
    "tags = pd.read_csv(r\"C:\\Users\\Sahilsharma\\Desktop\\Projects\\Movie Reccomendation\\Movie Dataset\\tag.csv\")\n",
    "\n",
    "# Preprocessing: merge the movies and tags datasets\n",
    "movies['genres'] = movies['genres'].str.replace('|', ' ')\n",
    "# Group tags by movieId and concatenate the tags, converting non-string entries to empty strings\n",
    "tags_grouped = tags.groupby('movieId')['tag'].apply(lambda x: ' '.join(x.dropna().astype(str))).reset_index()\n",
    "movies = pd.merge(movies, tags_grouped, on='movieId', how='left')\n",
    "\n",
    "# Fill NaN values in the 'tag' column with an empty string\n",
    "movies['tag'] = movies['tag'].fillna('')\n",
    "\n",
    "# Combine the genres and tags for content-based features\n",
    "movies['combined_features'] = movies['genres'] + ' ' + movies['tag']\n",
    "\n",
    "# Apply TF-IDF Vectorizer to convert text data into vectors\n",
    "tfidf = TfidfVectorizer(stop_words='english')\n",
    "tfidf_matrix = tfidf.fit_transform(movies['combined_features'])\n",
    "\n",
    "# Compute the cosine similarity matrix\n",
    "cosine_sim = linear_kernel(tfidf_matrix, tfidf_matrix)\n",
    "\n",
    "# Function to get movie recommendations\n",
    "def get_recommendations(title, cosine_sim=cosine_sim):\n",
    "    # Get the index of the movie that matches the title\n",
    "    idx = movies[movies['title'].str.contains(title, case=False, na=False)].index[0]\n",
    "\n",
    "    # Get the pairwise similarity scores for all movies with the input movie\n",
    "    sim_scores = list(enumerate(cosine_sim[idx]))\n",
    "\n",
    "    # Sort the movies based on the similarity scores\n",
    "    sim_scores = sorted(sim_scores, key=lambda x: x[1], reverse=True)\n",
    "\n",
    "    # Get the indices of the 10 most similar movies\n",
    "    sim_indices = [i[0] for i in sim_scores[1:11]]\n",
    "\n",
    "    # Return the titles of the 10 most similar movies\n",
    "    return movies['title'].iloc[sim_indices]\n",
    "\n",
    "# Input-based interaction\n",
    "user_movie = input(\"Enter a movie title: \")\n",
    "recommendations = get_recommendations(user_movie)\n",
    "\n",
    "print(\"\\nTop 10 movie recommendations for '{}':\".format(user_movie))\n",
    "for idx, movie in enumerate(recommendations, 1):\n",
    "    print(f\"{idx}. {movie}\")\n"
   ]
  },
  {
   "cell_type": "code",
   "execution_count": null,
   "id": "5e9caf0e-d0f2-48cf-9550-f58b70886c5d",
   "metadata": {},
   "outputs": [],
   "source": []
  }
 ],
 "metadata": {
  "kernelspec": {
   "display_name": "Python 3 (ipykernel)",
   "language": "python",
   "name": "python3"
  },
  "language_info": {
   "codemirror_mode": {
    "name": "ipython",
    "version": 3
   },
   "file_extension": ".py",
   "mimetype": "text/x-python",
   "name": "python",
   "nbconvert_exporter": "python",
   "pygments_lexer": "ipython3",
   "version": "3.11.7"
  }
 },
 "nbformat": 4,
 "nbformat_minor": 5
}
